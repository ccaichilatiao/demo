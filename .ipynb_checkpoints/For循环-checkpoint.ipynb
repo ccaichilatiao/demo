{
 "cells": [
  {
   "cell_type": "code",
   "execution_count": 2,
   "id": "1861d93d-fd86-4fd4-a206-40c216b7d51b",
   "metadata": {},
   "outputs": [
    {
     "name": "stdout",
     "output_type": "stream",
     "text": [
      "1 * 1 = 1\t\n",
      "1 * 2 = 2\t2 * 2 = 4\t\n",
      "1 * 3 = 3\t2 * 3 = 6\t3 * 3 = 9\t\n",
      "1 * 4 = 4\t2 * 4 = 8\t3 * 4 = 12\t4 * 4 = 16\t\n",
      "1 * 5 = 5\t2 * 5 = 10\t3 * 5 = 15\t4 * 5 = 20\t5 * 5 = 25\t\n",
      "1 * 6 = 6\t2 * 6 = 12\t3 * 6 = 18\t4 * 6 = 24\t5 * 6 = 30\t6 * 6 = 36\t\n",
      "1 * 7 = 7\t2 * 7 = 14\t3 * 7 = 21\t4 * 7 = 28\t5 * 7 = 35\t6 * 7 = 42\t7 * 7 = 49\t\n",
      "1 * 8 = 8\t2 * 8 = 16\t3 * 8 = 24\t4 * 8 = 32\t5 * 8 = 40\t6 * 8 = 48\t7 * 8 = 56\t8 * 8 = 64\t\n",
      "1 * 9 = 9\t2 * 9 = 18\t3 * 9 = 27\t4 * 9 = 36\t5 * 9 = 45\t6 * 9 = 54\t7 * 9 = 63\t8 * 9 = 72\t9 * 9 = 81\t\n"
     ]
    }
   ],
   "source": [
    "for i in range(1, 10):\n",
    "    for j in range(1, i+1):\n",
    "        print(\"%d * %d = %d\" % (j, i, i*j), end=\"\\t\")\n",
    "    print()"
   ]
  },
  {
   "cell_type": "code",
   "execution_count": 3,
   "id": "7b1ab8bc-b4ab-44d9-b86a-22c708869bc2",
   "metadata": {},
   "outputs": [
    {
     "name": "stdout",
     "output_type": "stream",
     "text": [
      "方式一\n",
      "♦️♦️♦️♦️♦️\n",
      "♦️♦️♦️♦️♦️\n",
      "♦️♦️♦️♦️♦️\n",
      "♦️♦️♦️♦️♦️\n",
      "♦️♦️♦️♦️♦️\n"
     ]
    }
   ],
   "source": [
    "print(\"方式一\")\n",
    "for i in range(5):\n",
    "    for j in range(5):\n",
    "        print(\"♦️\", end=\"\")\n",
    "    print()"
   ]
  },
  {
   "cell_type": "code",
   "execution_count": 6,
   "id": "638ec6f2-37db-45a3-8f8f-7b8a9fbc904e",
   "metadata": {},
   "outputs": [
    {
     "name": "stdout",
     "output_type": "stream",
     "text": [
      "1 * 9 = 9\t2 * 9 = 18\t3 * 9 = 27\t4 * 9 = 36\t5 * 9 = 45\t6 * 9 = 54\t7 * 9 = 63\t8 * 9 = 72\t9 * 9 = 81\t\n",
      "1 * 8 = 8\t2 * 8 = 16\t3 * 8 = 24\t4 * 8 = 32\t5 * 8 = 40\t6 * 8 = 48\t7 * 8 = 56\t8 * 8 = 64\t\n",
      "1 * 7 = 7\t2 * 7 = 14\t3 * 7 = 21\t4 * 7 = 28\t5 * 7 = 35\t6 * 7 = 42\t7 * 7 = 49\t\n",
      "1 * 6 = 6\t2 * 6 = 12\t3 * 6 = 18\t4 * 6 = 24\t5 * 6 = 30\t6 * 6 = 36\t\n",
      "1 * 5 = 5\t2 * 5 = 10\t3 * 5 = 15\t4 * 5 = 20\t5 * 5 = 25\t\n",
      "1 * 4 = 4\t2 * 4 = 8\t3 * 4 = 12\t4 * 4 = 16\t\n",
      "1 * 3 = 3\t2 * 3 = 6\t3 * 3 = 9\t\n",
      "1 * 2 = 2\t2 * 2 = 4\t\n",
      "1 * 1 = 1\t\n"
     ]
    }
   ],
   "source": [
    "for i in range(9, 0, -1):\n",
    "    for j in range(1, i+1):\n",
    "        print(j, \"*\", i, \"=\", i*j, end=\"\\t\")\n",
    "    print()"
   ]
  },
  {
   "cell_type": "code",
   "execution_count": 1,
   "id": "2d5cf229-46e1-46a7-bd16-b4388807103b",
   "metadata": {},
   "outputs": [],
   "source": [
    "import random"
   ]
  },
  {
   "cell_type": "code",
   "execution_count": 4,
   "id": "a459ffe2-b9e0-4a4a-97e2-8ede8325921c",
   "metadata": {},
   "outputs": [
    {
     "name": "stdout",
     "output_type": "stream",
     "text": [
      "29\n"
     ]
    },
    {
     "name": "stdin",
     "output_type": "stream",
     "text": [
      "请输入你认为的数字>>> 89\n"
     ]
    },
    {
     "name": "stdout",
     "output_type": "stream",
     "text": [
      "大了\n"
     ]
    },
    {
     "name": "stdin",
     "output_type": "stream",
     "text": [
      "再试一次>>> 23\n"
     ]
    },
    {
     "name": "stdout",
     "output_type": "stream",
     "text": [
      "小了\n"
     ]
    },
    {
     "name": "stdin",
     "output_type": "stream",
     "text": [
      "再试一次>>> 29\n"
     ]
    },
    {
     "name": "stdout",
     "output_type": "stream",
     "text": [
      "猜对了🎉\n"
     ]
    }
   ],
   "source": [
    "seed = random.randint(1, 100)\n",
    "print(seed)\n",
    "number = eval(input(\"请输入你认为的数字>>>\"))\n",
    "while True:\n",
    "    if seed > number:\n",
    "        print(\"小了\")\n",
    "    elif seed < number:\n",
    "        print(\"大了\")\n",
    "    elif seed == number:\n",
    "        print(\"猜对了🎉\")\n",
    "        break\n",
    "    number = eval(input(\"再试一次>>>\"))\n"
   ]
  },
  {
   "cell_type": "code",
   "execution_count": null,
   "id": "893ffa3a-1024-4a01-9798-8a71837e5f5a",
   "metadata": {},
   "outputs": [],
   "source": [
    "def compare():\n",
    "    a = 10\n",
    "    b = 100\n",
    "    if a > b:\n",
    "        print(\"数字{}大于数字{}。\".format(a, b))\n",
    "    elif a < b:\n",
    "        print(\"数字{}小于数字{}。\".format(a, b))\n",
    "    else:\n",
    "        print(\"数字{}等于数字{}。\".format(a, b))"
   ]
  }
 ],
 "metadata": {
  "kernelspec": {
   "display_name": "Python 3 (ipykernel)",
   "language": "python",
   "name": "python3"
  },
  "language_info": {
   "codemirror_mode": {
    "name": "ipython",
    "version": 3
   },
   "file_extension": ".py",
   "mimetype": "text/x-python",
   "name": "python",
   "nbconvert_exporter": "python",
   "pygments_lexer": "ipython3",
   "version": "3.9.6"
  }
 },
 "nbformat": 4,
 "nbformat_minor": 5
}
